{
  "nbformat": 4,
  "nbformat_minor": 0,
  "metadata": {
    "colab": {
      "provenance": []
    },
    "kernelspec": {
      "name": "python3",
      "display_name": "Python 3"
    },
    "language_info": {
      "name": "python"
    }
  },
  "cells": [
    {
      "cell_type": "code",
      "execution_count": null,
      "metadata": {
        "colab": {
          "base_uri": "https://localhost:8080/"
        },
        "id": "ZLohOHP0L1hG",
        "outputId": "8011c342-4310-4426-91a3-45940af2fa09"
      },
      "outputs": [
        {
          "output_type": "stream",
          "name": "stdout",
          "text": [
            "Requirement already satisfied: nltk in /usr/local/lib/python3.11/dist-packages (3.9.1)\n",
            "Requirement already satisfied: click in /usr/local/lib/python3.11/dist-packages (from nltk) (8.1.8)\n",
            "Requirement already satisfied: joblib in /usr/local/lib/python3.11/dist-packages (from nltk) (1.4.2)\n",
            "Requirement already satisfied: regex>=2021.8.3 in /usr/local/lib/python3.11/dist-packages (from nltk) (2024.11.6)\n",
            "Requirement already satisfied: tqdm in /usr/local/lib/python3.11/dist-packages (from nltk) (4.67.1)\n"
          ]
        }
      ],
      "source": [
        "!pip install nltk\n"
      ]
    },
    {
      "cell_type": "code",
      "source": [
        "import nltk\n",
        "import os\n"
      ],
      "metadata": {
        "id": "oZqC9xBML8-e"
      },
      "execution_count": null,
      "outputs": []
    },
    {
      "cell_type": "code",
      "source": [
        "AI = \"Artificial intelligence (AI), in its broadest sense, is intelligence exhibited by machines, particularly computer systems. It is a field of research in computer science that develops and studies methods and software that enable machines to perceive their environment and use learning and intelligence to take actions that maximize their chances of achieving defined goals. Such machines may be called AIs. High-profile applications of AI include advanced web search engines (e.g., Google Search); recommendation systems (used by YouTube, Amazon, and Netflix); virtual assistants (e.g., Google Assistant, Siri, and Alexa); autonomous vehicles (e.g., Waymo); generative and creative tools (e.g., ChatGPT and AI art); and superhuman play and analysis in strategy games (e.g., chess and Go). However, many AI applications are not perceived as AI: 'A lot of cutting edge AI has filtered into general applications, often without being called AI because once something becomes useful enough and common enough it's not labeled AI anymore.'\"\n"
      ],
      "metadata": {
        "id": "UR2VU1feMAPR"
      },
      "execution_count": null,
      "outputs": []
    },
    {
      "cell_type": "code",
      "source": [
        "type(AI)"
      ],
      "metadata": {
        "colab": {
          "base_uri": "https://localhost:8080/"
        },
        "id": "euYBH-MIPGOx",
        "outputId": "9696d7a1-fdfc-4280-ecb4-84552ce48af2"
      },
      "execution_count": null,
      "outputs": [
        {
          "output_type": "execute_result",
          "data": {
            "text/plain": [
              "str"
            ]
          },
          "metadata": {},
          "execution_count": 18
        }
      ]
    },
    {
      "cell_type": "code",
      "source": [
        "import nltk\n",
        "from nltk.tokenize import word_tokenize\n",
        "\n",
        "# Download the 'punkt_tab' resource\n",
        "nltk.download('punkt_tab')\n",
        "\n",
        "# Now, tokenize the text\n",
        "Ai_tokens = word_tokenize(AI)"
      ],
      "metadata": {
        "colab": {
          "base_uri": "https://localhost:8080/"
        },
        "id": "IYepWPD4MplB",
        "outputId": "5f2b3393-a8aa-4bdc-e330-89199271aab4"
      },
      "execution_count": null,
      "outputs": [
        {
          "output_type": "stream",
          "name": "stderr",
          "text": [
            "[nltk_data] Downloading package punkt_tab to /root/nltk_data...\n",
            "[nltk_data]   Unzipping tokenizers/punkt_tab.zip.\n"
          ]
        }
      ]
    },
    {
      "cell_type": "code",
      "source": [
        "Ai_tokens\n"
      ],
      "metadata": {
        "colab": {
          "base_uri": "https://localhost:8080/"
        },
        "id": "vA0XKIiqPZC9",
        "outputId": "8a33cbe7-24bb-4e37-ea6a-e40f70866122"
      },
      "execution_count": null,
      "outputs": [
        {
          "output_type": "execute_result",
          "data": {
            "text/plain": [
              "['Artificial',\n",
              " 'intelligence',\n",
              " '(',\n",
              " 'AI',\n",
              " ')',\n",
              " ',',\n",
              " 'in',\n",
              " 'its',\n",
              " 'broadest',\n",
              " 'sense',\n",
              " ',',\n",
              " 'is',\n",
              " 'intelligence',\n",
              " 'exhibited',\n",
              " 'by',\n",
              " 'machines',\n",
              " ',',\n",
              " 'particularly',\n",
              " 'computer',\n",
              " 'systems',\n",
              " '.',\n",
              " 'It',\n",
              " 'is',\n",
              " 'a',\n",
              " 'field',\n",
              " 'of',\n",
              " 'research',\n",
              " 'in',\n",
              " 'computer',\n",
              " 'science',\n",
              " 'that',\n",
              " 'develops',\n",
              " 'and',\n",
              " 'studies',\n",
              " 'methods',\n",
              " 'and',\n",
              " 'software',\n",
              " 'that',\n",
              " 'enable',\n",
              " 'machines',\n",
              " 'to',\n",
              " 'perceive',\n",
              " 'their',\n",
              " 'environment',\n",
              " 'and',\n",
              " 'use',\n",
              " 'learning',\n",
              " 'and',\n",
              " 'intelligence',\n",
              " 'to',\n",
              " 'take',\n",
              " 'actions',\n",
              " 'that',\n",
              " 'maximize',\n",
              " 'their',\n",
              " 'chances',\n",
              " 'of',\n",
              " 'achieving',\n",
              " 'defined',\n",
              " 'goals',\n",
              " '.',\n",
              " 'Such',\n",
              " 'machines',\n",
              " 'may',\n",
              " 'be',\n",
              " 'called',\n",
              " 'AIs',\n",
              " '.',\n",
              " 'High-profile',\n",
              " 'applications',\n",
              " 'of',\n",
              " 'AI',\n",
              " 'include',\n",
              " 'advanced',\n",
              " 'web',\n",
              " 'search',\n",
              " 'engines',\n",
              " '(',\n",
              " 'e.g.',\n",
              " ',',\n",
              " 'Google',\n",
              " 'Search',\n",
              " ')',\n",
              " ';',\n",
              " 'recommendation',\n",
              " 'systems',\n",
              " '(',\n",
              " 'used',\n",
              " 'by',\n",
              " 'YouTube',\n",
              " ',',\n",
              " 'Amazon',\n",
              " ',',\n",
              " 'and',\n",
              " 'Netflix',\n",
              " ')',\n",
              " ';',\n",
              " 'virtual',\n",
              " 'assistants',\n",
              " '(',\n",
              " 'e.g.',\n",
              " ',',\n",
              " 'Google',\n",
              " 'Assistant',\n",
              " ',',\n",
              " 'Siri',\n",
              " ',',\n",
              " 'and',\n",
              " 'Alexa',\n",
              " ')',\n",
              " ';',\n",
              " 'autonomous',\n",
              " 'vehicles',\n",
              " '(',\n",
              " 'e.g.',\n",
              " ',',\n",
              " 'Waymo',\n",
              " ')',\n",
              " ';',\n",
              " 'generative',\n",
              " 'and',\n",
              " 'creative',\n",
              " 'tools',\n",
              " '(',\n",
              " 'e.g.',\n",
              " ',',\n",
              " 'ChatGPT',\n",
              " 'and',\n",
              " 'AI',\n",
              " 'art',\n",
              " ')',\n",
              " ';',\n",
              " 'and',\n",
              " 'superhuman',\n",
              " 'play',\n",
              " 'and',\n",
              " 'analysis',\n",
              " 'in',\n",
              " 'strategy',\n",
              " 'games',\n",
              " '(',\n",
              " 'e.g.',\n",
              " ',',\n",
              " 'chess',\n",
              " 'and',\n",
              " 'Go',\n",
              " ')',\n",
              " '.',\n",
              " 'However',\n",
              " ',',\n",
              " 'many',\n",
              " 'AI',\n",
              " 'applications',\n",
              " 'are',\n",
              " 'not',\n",
              " 'perceived',\n",
              " 'as',\n",
              " 'AI',\n",
              " ':',\n",
              " \"'\",\n",
              " 'A',\n",
              " 'lot',\n",
              " 'of',\n",
              " 'cutting',\n",
              " 'edge',\n",
              " 'AI',\n",
              " 'has',\n",
              " 'filtered',\n",
              " 'into',\n",
              " 'general',\n",
              " 'applications',\n",
              " ',',\n",
              " 'often',\n",
              " 'without',\n",
              " 'being',\n",
              " 'called',\n",
              " 'AI',\n",
              " 'because',\n",
              " 'once',\n",
              " 'something',\n",
              " 'becomes',\n",
              " 'useful',\n",
              " 'enough',\n",
              " 'and',\n",
              " 'common',\n",
              " 'enough',\n",
              " 'it',\n",
              " \"'s\",\n",
              " 'not',\n",
              " 'labeled',\n",
              " 'AI',\n",
              " 'anymore',\n",
              " '.',\n",
              " \"'\"]"
            ]
          },
          "metadata": {},
          "execution_count": 21
        }
      ]
    },
    {
      "cell_type": "code",
      "source": [
        "len(Ai_tokens)"
      ],
      "metadata": {
        "colab": {
          "base_uri": "https://localhost:8080/"
        },
        "id": "ixliwV-3Pb0J",
        "outputId": "63c8b993-43b1-4d69-886f-23bdbaaf8c66"
      },
      "execution_count": null,
      "outputs": [
        {
          "output_type": "execute_result",
          "data": {
            "text/plain": [
              "194"
            ]
          },
          "metadata": {},
          "execution_count": 22
        }
      ]
    },
    {
      "cell_type": "code",
      "source": [
        "from nltk.probability import FreqDist\n",
        "\n",
        "\n",
        "fdist = FreqDist()"
      ],
      "metadata": {
        "id": "FooWUb9uPeF7"
      },
      "execution_count": null,
      "outputs": []
    },
    {
      "cell_type": "code",
      "source": [
        "for words in Ai_tokens:\n",
        "\n",
        "\n",
        " fdist[words.lower()]+=1\n",
        " fdist"
      ],
      "metadata": {
        "id": "FRBt-vWXPeCZ"
      },
      "execution_count": null,
      "outputs": []
    },
    {
      "cell_type": "code",
      "source": [
        "fdist['ai']"
      ],
      "metadata": {
        "colab": {
          "base_uri": "https://localhost:8080/"
        },
        "id": "qcmr0ZB8Pd-J",
        "outputId": "2a2dbaf8-bbac-41ee-a1ef-03a92e53f265"
      },
      "execution_count": null,
      "outputs": [
        {
          "output_type": "execute_result",
          "data": {
            "text/plain": [
              "16"
            ]
          },
          "metadata": {},
          "execution_count": 26
        }
      ]
    },
    {
      "cell_type": "code",
      "source": [
        "from nltk.tokenize import blankline_tokenize\n",
        "\n",
        "\n",
        "AI_blank = blankline_tokenize(AI)\n",
        "len(AI_blank)"
      ],
      "metadata": {
        "colab": {
          "base_uri": "https://localhost:8080/"
        },
        "id": "CZSIEfDqPd41",
        "outputId": "24295f73-80b1-40f6-ef49-04934efcdfb2"
      },
      "execution_count": null,
      "outputs": [
        {
          "output_type": "execute_result",
          "data": {
            "text/plain": [
              "1"
            ]
          },
          "metadata": {},
          "execution_count": 30
        }
      ]
    },
    {
      "cell_type": "code",
      "source": [
        "AI_blank[1]"
      ],
      "metadata": {
        "colab": {
          "base_uri": "https://localhost:8080/",
          "height": 141
        },
        "id": "8Bp8MqucPdxt",
        "outputId": "abba8aa7-ac6d-4398-ddf3-57157bd7eabb"
      },
      "execution_count": null,
      "outputs": [
        {
          "output_type": "error",
          "ename": "IndexError",
          "evalue": "list index out of range",
          "traceback": [
            "\u001b[0;31m---------------------------------------------------------------------------\u001b[0m",
            "\u001b[0;31mIndexError\u001b[0m                                Traceback (most recent call last)",
            "\u001b[0;32m<ipython-input-33-5377c4c05dca>\u001b[0m in \u001b[0;36m<cell line: 0>\u001b[0;34m()\u001b[0m\n\u001b[0;32m----> 1\u001b[0;31m \u001b[0mAI_blank\u001b[0m\u001b[0;34m[\u001b[0m\u001b[0;36m1\u001b[0m\u001b[0;34m]\u001b[0m\u001b[0;34m\u001b[0m\u001b[0;34m\u001b[0m\u001b[0m\n\u001b[0m",
            "\u001b[0;31mIndexError\u001b[0m: list index out of range"
          ]
        }
      ]
    },
    {
      "cell_type": "code",
      "source": [
        "senences = nltk.sent_tokenize(AI)\n",
        "\n",
        "\n",
        "senences"
      ],
      "metadata": {
        "colab": {
          "base_uri": "https://localhost:8080/"
        },
        "id": "Yo2-JbFAPdrZ",
        "outputId": "acd46195-43dc-4f4d-934d-704d40cd603b"
      },
      "execution_count": null,
      "outputs": [
        {
          "output_type": "execute_result",
          "data": {
            "text/plain": [
              "['Artificial intelligence (AI), in its broadest sense, is intelligence exhibited by machines, particularly computer systems.',\n",
              " 'It is a field of research in computer science that develops and studies methods and software that enable machines to perceive their environment and use learning and intelligence to take actions that maximize their chances of achieving defined goals.',\n",
              " 'Such machines may be called AIs.',\n",
              " 'High-profile applications of AI include advanced web search engines (e.g., Google Search); recommendation systems (used by YouTube, Amazon, and Netflix); virtual assistants (e.g., Google Assistant, Siri, and Alexa); autonomous vehicles (e.g., Waymo); generative and creative tools (e.g., ChatGPT and AI art); and superhuman play and analysis in strategy games (e.g., chess and Go).',\n",
              " \"However, many AI applications are not perceived as AI: 'A lot of cutting edge AI has filtered into general applications, often without being called AI because once something becomes useful enough and common enough it's not labeled AI anymore.'\"]"
            ]
          },
          "metadata": {},
          "execution_count": 32
        }
      ]
    },
    {
      "cell_type": "code",
      "source": [
        "from nltk.stem import PorterStemmer\n",
        "\n",
        "\n",
        "pst = PorterStemmer()"
      ],
      "metadata": {
        "id": "pBvqkAFXPqVK"
      },
      "execution_count": null,
      "outputs": []
    },
    {
      "cell_type": "code",
      "source": [
        "Words_to_stem = ['give','giving','given','gave']\n",
        "\n",
        "\n",
        "for words in Words_to_stem:\n",
        "   print(words + \":\" + pst.stem(words))"
      ],
      "metadata": {
        "colab": {
          "base_uri": "https://localhost:8080/"
        },
        "id": "Zye_gNepPqrV",
        "outputId": "0d0f83f5-4b7c-4632-eb02-3aafc55095f7"
      },
      "execution_count": null,
      "outputs": [
        {
          "output_type": "stream",
          "name": "stdout",
          "text": [
            "give:give\n",
            "giving:give\n",
            "given:given\n",
            "gave:gave\n"
          ]
        }
      ]
    },
    {
      "cell_type": "code",
      "source": [
        "from nltk.stem import LancasterStemmer\n",
        "\n",
        "\n",
        "lst = LancasterStemmer()\n",
        "\n",
        "\n",
        "for words in Words_to_stem:\n",
        "\n",
        "\n",
        " print(words + \":\" + lst.stem(words))"
      ],
      "metadata": {
        "colab": {
          "base_uri": "https://localhost:8080/"
        },
        "id": "dv2Bf6INPrC5",
        "outputId": "66b82f2a-3bc3-415d-9587-cc3c36e866de"
      },
      "execution_count": null,
      "outputs": [
        {
          "output_type": "stream",
          "name": "stdout",
          "text": [
            "give:giv\n",
            "giving:giv\n",
            "given:giv\n",
            "gave:gav\n"
          ]
        }
      ]
    },
    {
      "cell_type": "code",
      "source": [
        "from nltk.stem import WordNetLemmatizer\n",
        "\n",
        "\n",
        "nltk.download('wordnet')\n",
        "\n",
        "\n",
        "lemmatizer = WordNetLemmatizer()\n",
        "\n",
        "\n",
        "for words in Words_to_stem:\n",
        "\n",
        "\n",
        " print(words + \":\" + lemmatizer.lemmatize(words,pos='v'))"
      ],
      "metadata": {
        "colab": {
          "base_uri": "https://localhost:8080/"
        },
        "id": "CG9wpAcgRSLJ",
        "outputId": "1037545b-dcc6-475a-e39e-a19b1e5db647"
      },
      "execution_count": null,
      "outputs": [
        {
          "output_type": "stream",
          "name": "stdout",
          "text": [
            "give:give\n",
            "giving:give\n",
            "given:give\n",
            "gave:give\n"
          ]
        },
        {
          "output_type": "stream",
          "name": "stderr",
          "text": [
            "[nltk_data] Downloading package wordnet to /root/nltk_data...\n",
            "[nltk_data]   Package wordnet is already up-to-date!\n"
          ]
        }
      ]
    },
    {
      "cell_type": "code",
      "source": [
        "from nltk.corpus import stopwords\n",
        "nltk.download('stopwords')"
      ],
      "metadata": {
        "colab": {
          "base_uri": "https://localhost:8080/"
        },
        "id": "ujmVmNkQSC2F",
        "outputId": "6cab8c1c-a14a-4ca7-b4f9-4be6dedad9af"
      },
      "execution_count": null,
      "outputs": [
        {
          "output_type": "stream",
          "name": "stderr",
          "text": [
            "[nltk_data] Downloading package stopwords to /root/nltk_data...\n",
            "[nltk_data]   Package stopwords is already up-to-date!\n"
          ]
        },
        {
          "output_type": "execute_result",
          "data": {
            "text/plain": [
              "True"
            ]
          },
          "metadata": {},
          "execution_count": 45
        }
      ]
    },
    {
      "cell_type": "code",
      "source": [
        "import re\n",
        "\n",
        "\n",
        "punctuations= re.compile(r'[-.?!,:;()|0-9]')\n",
        "postpunctuation = []"
      ],
      "metadata": {
        "id": "0AeVoX91THQO"
      },
      "execution_count": null,
      "outputs": []
    },
    {
      "cell_type": "code",
      "source": [
        "for words in Ai_tokens:\n",
        "\n",
        "\n",
        "  word = punctuations.sub(\"\", words)\n",
        "\n",
        "\n",
        "  if len(word)>0:\n",
        "\n",
        "\n",
        "    postpunctuation.append(word)"
      ],
      "metadata": {
        "id": "6yho2jSlTHM8"
      },
      "execution_count": null,
      "outputs": []
    },
    {
      "cell_type": "code",
      "source": [],
      "metadata": {
        "id": "0CAT-HTvTHJR"
      },
      "execution_count": null,
      "outputs": []
    },
    {
      "cell_type": "code",
      "source": [],
      "metadata": {
        "id": "GejQPUQyTHEF"
      },
      "execution_count": null,
      "outputs": []
    },
    {
      "cell_type": "code",
      "source": [],
      "metadata": {
        "id": "FXVaE-I6TG7l"
      },
      "execution_count": null,
      "outputs": []
    }
  ]
}